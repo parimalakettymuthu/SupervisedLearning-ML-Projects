{
  "nbformat": 4,
  "nbformat_minor": 0,
  "metadata": {
    "colab": {
      "provenance": []
    },
    "kernelspec": {
      "name": "python3",
      "display_name": "Python 3"
    },
    "language_info": {
      "name": "python"
    }
  },
  "cells": [
    {
      "cell_type": "code",
      "execution_count": 1,
      "metadata": {
        "colab": {
          "base_uri": "https://localhost:8080/",
          "height": 35
        },
        "id": "fnk09FwbrzX7",
        "outputId": "58adaeea-4a27-48c7-8aff-902870535625"
      },
      "outputs": [
        {
          "output_type": "execute_result",
          "data": {
            "text/plain": [
              "'2.1.0+cu121'"
            ],
            "application/vnd.google.colaboratory.intrinsic+json": {
              "type": "string"
            }
          },
          "metadata": {},
          "execution_count": 1
        }
      ],
      "source": [
        "import torch\n",
        "from torch import nn\n",
        "import matplotlib.pyplot as plt\n",
        "\n",
        "torch.__version__"
      ]
    },
    {
      "cell_type": "code",
      "source": [
        "weight = 0.7\n",
        "bias = 0.3\n",
        "start = 0\n",
        "end = 1\n",
        "step = 0.02\n",
        "X = torch.arange(start, end, step).unsqueeze(dim=1)\n",
        "y = weight* X + bias\n",
        "\n",
        "X[:10], y[:10]"
      ],
      "metadata": {
        "colab": {
          "base_uri": "https://localhost:8080/"
        },
        "id": "I9GbxF7qsBRl",
        "outputId": "18884498-31e7-4f06-d84a-f6a0037e01ba"
      },
      "execution_count": 2,
      "outputs": [
        {
          "output_type": "execute_result",
          "data": {
            "text/plain": [
              "(tensor([[0.0000],\n",
              "         [0.0200],\n",
              "         [0.0400],\n",
              "         [0.0600],\n",
              "         [0.0800],\n",
              "         [0.1000],\n",
              "         [0.1200],\n",
              "         [0.1400],\n",
              "         [0.1600],\n",
              "         [0.1800]]),\n",
              " tensor([[0.3000],\n",
              "         [0.3140],\n",
              "         [0.3280],\n",
              "         [0.3420],\n",
              "         [0.3560],\n",
              "         [0.3700],\n",
              "         [0.3840],\n",
              "         [0.3980],\n",
              "         [0.4120],\n",
              "         [0.4260]]))"
            ]
          },
          "metadata": {},
          "execution_count": 2
        }
      ]
    },
    {
      "cell_type": "code",
      "source": [
        "len(X), len(y)"
      ],
      "metadata": {
        "colab": {
          "base_uri": "https://localhost:8080/"
        },
        "id": "ZuZv8HvWvwLM",
        "outputId": "e4d2343f-04df-404a-a171-a610f22c8d27"
      },
      "execution_count": 3,
      "outputs": [
        {
          "output_type": "execute_result",
          "data": {
            "text/plain": [
              "(50, 50)"
            ]
          },
          "metadata": {},
          "execution_count": 3
        }
      ]
    },
    {
      "cell_type": "code",
      "source": [
        "train_split = int(0.8 * len(X))\n",
        "X_train, y_train = X[:train_split], y[:train_split]\n",
        "X_test, y_test = X[train_split:], y[train_split:]"
      ],
      "metadata": {
        "id": "2tWWN548v1GT"
      },
      "execution_count": 4,
      "outputs": []
    },
    {
      "cell_type": "code",
      "source": [
        "len(X_train), len(y_train), len(X_test), len(y_test)"
      ],
      "metadata": {
        "colab": {
          "base_uri": "https://localhost:8080/"
        },
        "id": "5WAs5HW5xomy",
        "outputId": "1d12a4f0-e3ed-4359-bc92-0d335ecacf0a"
      },
      "execution_count": 5,
      "outputs": [
        {
          "output_type": "execute_result",
          "data": {
            "text/plain": [
              "(40, 40, 10, 10)"
            ]
          },
          "metadata": {},
          "execution_count": 5
        }
      ]
    },
    {
      "cell_type": "code",
      "source": [
        "def plot_predictions(train_data=X_train,\n",
        "                     train_labels=y_train,\n",
        "                     test_data=X_test,\n",
        "                     test_labels=y_test,\n",
        "                     predictions=None):\n",
        "  plt.figure(figsize=(10, 7))\n",
        "  plt.scatter(train_data, train_labels, c=\"b\", s=4, label=\"Training data\")\n",
        "  plt.scatter(test_data, test_labels, c=\"g\", s=4, label=\"Testing data\")\n",
        "\n",
        "  if predictions is not None:\n",
        "    plt.scatter(test_data, predictions, c=\"r\", s=4, label=\"Predictions\")\n",
        "  plt.legend(prop={\"size\":10})"
      ],
      "metadata": {
        "id": "9wTsGRpAysoq"
      },
      "execution_count": 6,
      "outputs": []
    },
    {
      "cell_type": "code",
      "source": [
        "plot_predictions()"
      ],
      "metadata": {
        "colab": {
          "base_uri": "https://localhost:8080/",
          "height": 460
        },
        "id": "PbU-Yj990EpD",
        "outputId": "810b5f52-a2dd-4abc-c677-0ca6a08a57fe"
      },
      "execution_count": 7,
      "outputs": [
        {
          "output_type": "display_data",
          "data": {
            "text/plain": [
              "<Figure size 1000x700 with 1 Axes>"
            ],
            "image/png": "[encoded data removed]"
          },
          "metadata": {}
        }
      ]
    },
    {
      "cell_type": "code",
      "source": [
        "class LinearRegressionModel(nn.Module):\n",
        "  def __init__(self):\n",
        "    super().__init__()\n",
        "    self.weights = nn.Parameter(torch.rand(1,\n",
        "                                           requires_grad=True,\n",
        "                                           dtype=torch.float))\n",
        "    self.bias = nn.Parameter(torch.randn(1,\n",
        "                                         requires_grad=True,\n",
        "                                         dtype=torch.float))\n",
        "\n",
        "  def forward(self, x: torch.Tensor) -> torch.Tensor:\n",
        "    return self.weights* x + self.bias"
      ],
      "metadata": {
        "id": "IfNVqOII0lDc"
      },
      "execution_count": 8,
      "outputs": []
    },
    {
      "cell_type": "code",
      "source": [
        "torch.manual_seed(42)\n",
        "torch.randn(1)"
      ],
      "metadata": {
        "colab": {
          "base_uri": "https://localhost:8080/"
        },
        "id": "0nG2TBfOCMaG",
        "outputId": "99be3dda-21b0-4583-e3e7-eeac0ef507c0"
      },
      "execution_count": 9,
      "outputs": [
        {
          "output_type": "execute_result",
          "data": {
            "text/plain": [
              "tensor([0.3367])"
            ]
          },
          "metadata": {},
          "execution_count": 9
        }
      ]
    },
    {
      "cell_type": "code",
      "source": [
        "torch.manual_seed(42)\n",
        "model_0 = LinearRegressionModel()\n",
        "list(model_0.parameters())"
      ],
      "metadata": {
        "colab": {
          "base_uri": "https://localhost:8080/"
        },
        "id": "vclW1r0Z2ff7",
        "outputId": "451795ce-3000-4b49-ddf8-fd775a4a70ef"
      },
      "execution_count": 10,
      "outputs": [
        {
          "output_type": "execute_result",
          "data": {
            "text/plain": [
              "[Parameter containing:\n",
              " tensor([0.8823], requires_grad=True),\n",
              " Parameter containing:\n",
              " tensor([-0.6382], requires_grad=True)]"
            ]
          },
          "metadata": {},
          "execution_count": 10
        }
      ]
    },
    {
      "cell_type": "code",
      "source": [
        "model_0.state_dict()"
      ],
      "metadata": {
        "colab": {
          "base_uri": "https://localhost:8080/"
        },
        "id": "3ZbLFNxJB6KZ",
        "outputId": "40e2f295-a276-4ad3-c61d-4ca758ecff62"
      },
      "execution_count": 11,
      "outputs": [
        {
          "output_type": "execute_result",
          "data": {
            "text/plain": [
              "OrderedDict([('weights', tensor([0.8823])), ('bias', tensor([-0.6382]))])"
            ]
          },
          "metadata": {},
          "execution_count": 11
        }
      ]
    },
    {
      "cell_type": "code",
      "source": [
        "weight, bias"
      ],
      "metadata": {
        "colab": {
          "base_uri": "https://localhost:8080/"
        },
        "id": "xoZpeT8EC4_a",
        "outputId": "ca60bb22-bd5e-4f1d-826f-aca96a11d3d2"
      },
      "execution_count": 12,
      "outputs": [
        {
          "output_type": "execute_result",
          "data": {
            "text/plain": [
              "(0.7, 0.3)"
            ]
          },
          "metadata": {},
          "execution_count": 12
        }
      ]
    },
    {
      "cell_type": "code",
      "source": [
        "y_preds = model_0(X_test)\n",
        "y_preds"
      ],
      "metadata": {
        "colab": {
          "base_uri": "https://localhost:8080/"
        },
        "id": "Cj2vtAp9E5oC",
        "outputId": "7ffa2842-eb00-45ac-f203-462b61b23b4f"
      },
      "execution_count": 13,
      "outputs": [
        {
          "output_type": "execute_result",
          "data": {
            "text/plain": [
              "tensor([[0.0677],\n",
              "        [0.0853],\n",
              "        [0.1030],\n",
              "        [0.1206],\n",
              "        [0.1382],\n",
              "        [0.1559],\n",
              "        [0.1735],\n",
              "        [0.1912],\n",
              "        [0.2088],\n",
              "        [0.2265]], grad_fn=<AddBackward0>)"
            ]
          },
          "metadata": {},
          "execution_count": 13
        }
      ]
    },
    {
      "cell_type": "code",
      "source": [
        "with torch.inference_mode():\n",
        "  y_preds = model_0(X_test)\n",
        "\n",
        "#with torch.no_grad():\n",
        " # y_preds = model_0(X_test)\n",
        "y_preds"
      ],
      "metadata": {
        "colab": {
          "base_uri": "https://localhost:8080/"
        },
        "id": "fwCnoNULDDdZ",
        "outputId": "0afdcd05-6d27-44ae-e414-f276eaf92ab6"
      },
      "execution_count": 14,
      "outputs": [
        {
          "output_type": "execute_result",
          "data": {
            "text/plain": [
              "tensor([[0.0677],\n",
              "        [0.0853],\n",
              "        [0.1030],\n",
              "        [0.1206],\n",
              "        [0.1382],\n",
              "        [0.1559],\n",
              "        [0.1735],\n",
              "        [0.1912],\n",
              "        [0.2088],\n",
              "        [0.2265]])"
            ]
          },
          "metadata": {},
          "execution_count": 14
        }
      ]
    },
    {
      "cell_type": "code",
      "source": [
        "y_test"
      ],
      "metadata": {
        "colab": {
          "base_uri": "https://localhost:8080/"
        },
        "id": "RBJq8GTPEA8i",
        "outputId": "c21c0fde-52e0-485e-dbb4-ed6f2bdbf638"
      },
      "execution_count": 15,
      "outputs": [
        {
          "output_type": "execute_result",
          "data": {
            "text/plain": [
              "tensor([[0.8600],\n",
              "        [0.8740],\n",
              "        [0.8880],\n",
              "        [0.9020],\n",
              "        [0.9160],\n",
              "        [0.9300],\n",
              "        [0.9440],\n",
              "        [0.9580],\n",
              "        [0.9720],\n",
              "        [0.9860]])"
            ]
          },
          "metadata": {},
          "execution_count": 15
        }
      ]
    },
    {
      "cell_type": "code",
      "source": [
        "plot_predictions(predictions=y_preds)"
      ],
      "metadata": {
        "colab": {
          "base_uri": "https://localhost:8080/",
          "height": 460
        },
        "id": "wXbbz_hCEmQp",
        "outputId": "5c099ef6-1af7-4670-d6b1-73317a3b25b1"
      },
      "execution_count": 16,
      "outputs": [
        {
          "output_type": "display_data",
          "data": {
            "text/plain": [
              "<Figure size 1000x700 with 1 Axes>"
            ],
            "image/png": "[encoded data removed]"
          },
          "metadata": {}
        }
      ]
    },
    {
      "cell_type": "code",
      "source": [
        "list(model_0.parameters())"
      ],
      "metadata": {
        "colab": {
          "base_uri": "https://localhost:8080/"
        },
        "id": "LxpZnP1KEpiR",
        "outputId": "82f2bf7b-6407-4bc8-ffb0-e7360054e252"
      },
      "execution_count": 17,
      "outputs": [
        {
          "output_type": "execute_result",
          "data": {
            "text/plain": [
              "[Parameter containing:\n",
              " tensor([0.8823], requires_grad=True),\n",
              " Parameter containing:\n",
              " tensor([-0.6382], requires_grad=True)]"
            ]
          },
          "metadata": {},
          "execution_count": 17
        }
      ]
    },
    {
      "cell_type": "code",
      "source": [
        "with torch.no_grad():\n",
        "  print(list(model_0.parameters()))"
      ],
      "metadata": {
        "colab": {
          "base_uri": "https://localhost:8080/"
        },
        "id": "8QR8U631zz5L",
        "outputId": "ae873dc2-e8cd-4a0c-f565-739b676a2b1a"
      },
      "execution_count": 18,
      "outputs": [
        {
          "output_type": "stream",
          "name": "stdout",
          "text": [
            "[Parameter containing:\n",
            "tensor([0.8823], requires_grad=True), Parameter containing:\n",
            "tensor([-0.6382], requires_grad=True)]\n"
          ]
        }
      ]
    },
    {
      "cell_type": "code",
      "source": [
        "model_0.state_dict()"
      ],
      "metadata": {
        "colab": {
          "base_uri": "https://localhost:8080/"
        },
        "id": "h6fV64pMHWeJ",
        "outputId": "349a5fde-faf6-4345-ef0a-d6a93e0b404b"
      },
      "execution_count": 19,
      "outputs": [
        {
          "output_type": "execute_result",
          "data": {
            "text/plain": [
              "OrderedDict([('weights', tensor([0.8823])), ('bias', tensor([-0.6382]))])"
            ]
          },
          "metadata": {},
          "execution_count": 19
        }
      ]
    },
    {
      "cell_type": "code",
      "source": [
        "loss_fn = nn.L1Loss()\n",
        "optimizer = torch.optim.SGD(params=model_0.parameters(),\n",
        "                            lr=0.01)"
      ],
      "metadata": {
        "id": "wCcHSDZ0Hevx"
      },
      "execution_count": 20,
      "outputs": []
    },
    {
      "cell_type": "code",
      "source": [
        "loss_fn"
      ],
      "metadata": {
        "colab": {
          "base_uri": "https://localhost:8080/"
        },
        "id": "sYw4FWC_I_di",
        "outputId": "4a50eb67-5998-4179-bb25-6a8658856bdd"
      },
      "execution_count": 21,
      "outputs": [
        {
          "output_type": "execute_result",
          "data": {
            "text/plain": [
              "L1Loss()"
            ]
          },
          "metadata": {},
          "execution_count": 21
        }
      ]
    },
    {
      "cell_type": "markdown",
      "source": [
        "Building a training loop"
      ],
      "metadata": {
        "id": "0m0rs1lkJDIB"
      }
    },
    {
      "cell_type": "code",
      "source": [
        "torch.manual_seed(42)\n",
        "epochs = 150 #0.one loop through the data - hyperparameter (set by us)\n",
        "\n",
        "#Tack different values\n",
        "epoch_count = []\n",
        "loss_values = []\n",
        "test_loss_values = []\n",
        "\n",
        "for epoch in range(epochs):\n",
        "  model_0.train()\n",
        "\n",
        "  #1. Forward pass\n",
        "  y_pred = model_0(X_train)\n",
        "\n",
        "  #2. Calculate the loss\n",
        "  loss = loss_fn(y_pred, y_train)\n",
        "  #print(f\"loss: {loss}\")\n",
        "\n",
        "   #3. Optimizer\n",
        "  optimizer.zero_grad()\n",
        "\n",
        "  #4. perform backpropagation\n",
        "  loss.backward()\n",
        "\n",
        "  #Step the optimizer\n",
        "  optimizer.step()\n",
        "\n",
        "  model_0.eval() ## turns off gradient descent\n",
        "  with torch.inference_mode():\n",
        "  #with torch.no_grad():\n",
        "    test_pred = model_0(X_test)\n",
        "\n",
        "    #test loss\n",
        "    test_loss = loss_fn(test_pred, y_test)\n",
        "  if epoch%10 == 0:\n",
        "    epoch_count.append(epoch)\n",
        "    loss_values.append(loss)\n",
        "    test_loss_values.append(test_loss)\n",
        "    print(f\"Epoch {epoch} | Loss: {loss} | Test Loss: {test_loss}\")\n",
        "  print(model_0.state_dict())"
      ],
      "metadata": {
        "colab": {
          "base_uri": "https://localhost:8080/"
        },
        "id": "IhUI7iVwxkWg",
        "outputId": "10166ac4-c1b3-49a6-cbc4-d3d539823fbc"
      },
      "execution_count": 22,
      "outputs": [
        {
          "output_type": "stream",
          "name": "stdout",
          "text": [
            "Epoch 0 | Loss: 0.8670692443847656 | Test Loss: 0.7624635696411133\n",
            "OrderedDict([('weights', tensor([0.8862])), ('bias', tensor([-0.6282]))])\n",
            "OrderedDict([('weights', tensor([0.8901])), ('bias', tensor([-0.6182]))])\n",
            "OrderedDict([('weights', tensor([0.8940])), ('bias', tensor([-0.6082]))])\n",
            "OrderedDict([('weights', tensor([0.8979])), ('bias', tensor([-0.5982]))])\n",
            "OrderedDict([('weights', tensor([0.9018])), ('bias', tensor([-0.5882]))])\n",
            "OrderedDict([('weights', tensor([0.9057])), ('bias', tensor([-0.5782]))])\n",
            "OrderedDict([('weights', tensor([0.9096])), ('bias', tensor([-0.5682]))])\n",
            "OrderedDict([('weights', tensor([0.9135])), ('bias', tensor([-0.5582]))])\n",
            "OrderedDict([('weights', tensor([0.9174])), ('bias', tensor([-0.5482]))])\n",
            "OrderedDict([('weights', tensor([0.9213])), ('bias', tensor([-0.5382]))])\n",
            "Epoch 10 | Loss: 0.7518593072891235 | Test Loss: 0.6277537941932678\n",
            "OrderedDict([('weights', tensor([0.9252])), ('bias', tensor([-0.5282]))])\n",
            "OrderedDict([('weights', tensor([0.9291])), ('bias', tensor([-0.5182]))])\n",
            "OrderedDict([('weights', tensor([0.9330])), ('bias', tensor([-0.5082]))])\n",
            "OrderedDict([('weights', tensor([0.9369])), ('bias', tensor([-0.4982]))])\n",
            "OrderedDict([('weights', tensor([0.9408])), ('bias', tensor([-0.4882]))])\n",
            "OrderedDict([('weights', tensor([0.9447])), ('bias', tensor([-0.4782]))])\n",
            "OrderedDict([('weights', tensor([0.9486])), ('bias', tensor([-0.4682]))])\n",
            "OrderedDict([('weights', tensor([0.9525])), ('bias', tensor([-0.4582]))])\n",
            "OrderedDict([('weights', tensor([0.9564])), ('bias', tensor([-0.4482]))])\n",
            "OrderedDict([('weights', tensor([0.9603])), ('bias', tensor([-0.4382]))])\n",
            "Epoch 20 | Loss: 0.636649489402771 | Test Loss: 0.4930438995361328\n",
            "OrderedDict([('weights', tensor([0.9642])), ('bias', tensor([-0.4282]))])\n",
            "OrderedDict([('weights', tensor([0.9681])), ('bias', tensor([-0.4182]))])\n",
            "OrderedDict([('weights', tensor([0.9720])), ('bias', tensor([-0.4082]))])\n",
            "OrderedDict([('weights', tensor([0.9759])), ('bias', tensor([-0.3982]))])\n",
            "OrderedDict([('weights', tensor([0.9798])), ('bias', tensor([-0.3882]))])\n",
            "OrderedDict([('weights', tensor([0.9837])), ('bias', tensor([-0.3782]))])\n",
            "OrderedDict([('weights', tensor([0.9876])), ('bias', tensor([-0.3682]))])\n",
            "OrderedDict([('weights', tensor([0.9915])), ('bias', tensor([-0.3582]))])\n",
            "OrderedDict([('weights', tensor([0.9954])), ('bias', tensor([-0.3482]))])\n",
            "OrderedDict([('weights', tensor([0.9993])), ('bias', tensor([-0.3382]))])\n",
            "Epoch 30 | Loss: 0.5214395523071289 | Test Loss: 0.3583340346813202\n",
            "OrderedDict([('weights', tensor([1.0032])), ('bias', tensor([-0.3282]))])\n",
            "OrderedDict([('weights', tensor([1.0071])), ('bias', tensor([-0.3182]))])\n",
            "OrderedDict([('weights', tensor([1.0110])), ('bias', tensor([-0.3082]))])\n",
            "OrderedDict([('weights', tensor([1.0149])), ('bias', tensor([-0.2982]))])\n",
            "OrderedDict([('weights', tensor([1.0188])), ('bias', tensor([-0.2882]))])\n",
            "OrderedDict([('weights', tensor([1.0227])), ('bias', tensor([-0.2782]))])\n",
            "OrderedDict([('weights', tensor([1.0266])), ('bias', tensor([-0.2682]))])\n",
            "OrderedDict([('weights', tensor([1.0305])), ('bias', tensor([-0.2582]))])\n",
            "OrderedDict([('weights', tensor([1.0344])), ('bias', tensor([-0.2482]))])\n",
            "OrderedDict([('weights', tensor([1.0383])), ('bias', tensor([-0.2382]))])\n",
            "Epoch 40 | Loss: 0.4062294363975525 | Test Loss: 0.2236236333847046\n",
            "OrderedDict([('weights', tensor([1.0422])), ('bias', tensor([-0.2282]))])\n",
            "OrderedDict([('weights', tensor([1.0461])), ('bias', tensor([-0.2182]))])\n",
            "OrderedDict([('weights', tensor([1.0500])), ('bias', tensor([-0.2082]))])\n",
            "OrderedDict([('weights', tensor([1.0539])), ('bias', tensor([-0.1982]))])\n",
            "OrderedDict([('weights', tensor([1.0578])), ('bias', tensor([-0.1882]))])\n",
            "OrderedDict([('weights', tensor([1.0617])), ('bias', tensor([-0.1782]))])\n",
            "OrderedDict([('weights', tensor([1.0656])), ('bias', tensor([-0.1682]))])\n",
            "OrderedDict([('weights', tensor([1.0695])), ('bias', tensor([-0.1582]))])\n",
            "OrderedDict([('weights', tensor([1.0734])), ('bias', tensor([-0.1482]))])\n",
            "OrderedDict([('weights', tensor([1.0773])), ('bias', tensor([-0.1382]))])\n",
            "Epoch 50 | Loss: 0.2910192012786865 | Test Loss: 0.08891315013170242\n",
            "OrderedDict([('weights', tensor([1.0812])), ('bias', tensor([-0.1282]))])\n",
            "OrderedDict([('weights', tensor([1.0851])), ('bias', tensor([-0.1182]))])\n",
            "OrderedDict([('weights', tensor([1.0890])), ('bias', tensor([-0.1082]))])\n",
            "OrderedDict([('weights', tensor([1.0929])), ('bias', tensor([-0.0982]))])\n",
            "OrderedDict([('weights', tensor([1.0968])), ('bias', tensor([-0.0882]))])\n",
            "OrderedDict([('weights', tensor([1.1007])), ('bias', tensor([-0.0782]))])\n",
            "OrderedDict([('weights', tensor([1.1046])), ('bias', tensor([-0.0682]))])\n",
            "OrderedDict([('weights', tensor([1.1085])), ('bias', tensor([-0.0582]))])\n",
            "OrderedDict([('weights', tensor([1.1124])), ('bias', tensor([-0.0482]))])\n",
            "OrderedDict([('weights', tensor([1.1163])), ('bias', tensor([-0.0382]))])\n",
            "Epoch 60 | Loss: 0.17580902576446533 | Test Loss: 0.04579734057188034\n",
            "OrderedDict([('weights', tensor([1.1202])), ('bias', tensor([-0.0282]))])\n",
            "OrderedDict([('weights', tensor([1.1241])), ('bias', tensor([-0.0182]))])\n",
            "OrderedDict([('weights', tensor([1.1272])), ('bias', tensor([-0.0092]))])\n",
            "OrderedDict([('weights', tensor([1.1300])), ('bias', tensor([-0.0007]))])\n",
            "OrderedDict([('weights', tensor([1.1320])), ('bias', tensor([0.0068]))])\n",
            "OrderedDict([('weights', tensor([1.1337])), ('bias', tensor([0.0138]))])\n",
            "OrderedDict([('weights', tensor([1.1351])), ('bias', tensor([0.0203]))])\n",
            "OrderedDict([('weights', tensor([1.1365])), ('bias', tensor([0.0268]))])\n",
            "OrderedDict([('weights', tensor([1.1375])), ('bias', tensor([0.0328]))])\n",
            "OrderedDict([('weights', tensor([1.1383])), ('bias', tensor([0.0383]))])\n",
            "Epoch 70 | Loss: 0.11110417544841766 | Test Loss: 0.13382463157176971\n",
            "OrderedDict([('weights', tensor([1.1387])), ('bias', tensor([0.0433]))])\n",
            "OrderedDict([('weights', tensor([1.1392])), ('bias', tensor([0.0483]))])\n",
            "OrderedDict([('weights', tensor([1.1394])), ('bias', tensor([0.0528]))])\n",
            "OrderedDict([('weights', tensor([1.1395])), ('bias', tensor([0.0573]))])\n",
            "OrderedDict([('weights', tensor([1.1394])), ('bias', tensor([0.0613]))])\n",
            "OrderedDict([('weights', tensor([1.1393])), ('bias', tensor([0.0653]))])\n",
            "OrderedDict([('weights', tensor([1.1389])), ('bias', tensor([0.0688]))])\n",
            "OrderedDict([('weights', tensor([1.1385])), ('bias', tensor([0.0723]))])\n",
            "OrderedDict([('weights', tensor([1.1378])), ('bias', tensor([0.0753]))])\n",
            "OrderedDict([('weights', tensor([1.1372])), ('bias', tensor([0.0783]))])\n",
            "Epoch 80 | Loss: 0.09491372108459473 | Test Loss: 0.16986632347106934\n",
            "OrderedDict([('weights', tensor([1.1365])), ('bias', tensor([0.0813]))])\n",
            "OrderedDict([('weights', tensor([1.1359])), ('bias', tensor([0.0843]))])\n",
            "OrderedDict([('weights', tensor([1.1350])), ('bias', tensor([0.0868]))])\n",
            "OrderedDict([('weights', tensor([1.1341])), ('bias', tensor([0.0893]))])\n",
            "OrderedDict([('weights', tensor([1.1332])), ('bias', tensor([0.0918]))])\n",
            "OrderedDict([('weights', tensor([1.1323])), ('bias', tensor([0.0943]))])\n",
            "OrderedDict([('weights', tensor([1.1312])), ('bias', tensor([0.0963]))])\n",
            "OrderedDict([('weights', tensor([1.1300])), ('bias', tensor([0.0983]))])\n",
            "OrderedDict([('weights', tensor([1.1289])), ('bias', tensor([0.1003]))])\n",
            "OrderedDict([('weights', tensor([1.1277])), ('bias', tensor([0.1023]))])\n",
            "Epoch 90 | Loss: 0.08829215168952942 | Test Loss: 0.18401066958904266\n",
            "OrderedDict([('weights', tensor([1.1266])), ('bias', tensor([0.1043]))])\n",
            "OrderedDict([('weights', tensor([1.1252])), ('bias', tensor([0.1058]))])\n",
            "OrderedDict([('weights', tensor([1.1239])), ('bias', tensor([0.1073]))])\n",
            "OrderedDict([('weights', tensor([1.1225])), ('bias', tensor([0.1088]))])\n",
            "OrderedDict([('weights', tensor([1.1211])), ('bias', tensor([0.1103]))])\n",
            "OrderedDict([('weights', tensor([1.1197])), ('bias', tensor([0.1118]))])\n",
            "OrderedDict([('weights', tensor([1.1184])), ('bias', tensor([0.1133]))])\n",
            "OrderedDict([('weights', tensor([1.1170])), ('bias', tensor([0.1148]))])\n",
            "OrderedDict([('weights', tensor([1.1156])), ('bias', tensor([0.1163]))])\n",
            "OrderedDict([('weights', tensor([1.1143])), ('bias', tensor([0.1178]))])\n",
            "Epoch 100 | Loss: 0.08408287912607193 | Test Loss: 0.18612226843833923\n",
            "OrderedDict([('weights', tensor([1.1127])), ('bias', tensor([0.1188]))])\n",
            "OrderedDict([('weights', tensor([1.1111])), ('bias', tensor([0.1198]))])\n",
            "OrderedDict([('weights', tensor([1.1095])), ('bias', tensor([0.1208]))])\n",
            "OrderedDict([('weights', tensor([1.1079])), ('bias', tensor([0.1218]))])\n",
            "OrderedDict([('weights', tensor([1.1063])), ('bias', tensor([0.1228]))])\n",
            "OrderedDict([('weights', tensor([1.1047])), ('bias', tensor([0.1238]))])\n",
            "OrderedDict([('weights', tensor([1.1031])), ('bias', tensor([0.1248]))])\n",
            "OrderedDict([('weights', tensor([1.1015])), ('bias', tensor([0.1258]))])\n",
            "OrderedDict([('weights', tensor([1.1000])), ('bias', tensor([0.1268]))])\n",
            "OrderedDict([('weights', tensor([1.0984])), ('bias', tensor([0.1278]))])\n",
            "Epoch 110 | Loss: 0.08055473864078522 | Test Loss: 0.18197114765644073\n",
            "OrderedDict([('weights', tensor([1.0968])), ('bias', tensor([0.1288]))])\n",
            "OrderedDict([('weights', tensor([1.0952])), ('bias', tensor([0.1298]))])\n",
            "OrderedDict([('weights', tensor([1.0936])), ('bias', tensor([0.1308]))])\n",
            "OrderedDict([('weights', tensor([1.0920])), ('bias', tensor([0.1318]))])\n",
            "OrderedDict([('weights', tensor([1.0904])), ('bias', tensor([0.1328]))])\n",
            "OrderedDict([('weights', tensor([1.0888])), ('bias', tensor([0.1338]))])\n",
            "OrderedDict([('weights', tensor([1.0872])), ('bias', tensor([0.1348]))])\n",
            "OrderedDict([('weights', tensor([1.0856])), ('bias', tensor([0.1358]))])\n",
            "OrderedDict([('weights', tensor([1.0841])), ('bias', tensor([0.1368]))])\n",
            "OrderedDict([('weights', tensor([1.0825])), ('bias', tensor([0.1378]))])\n",
            "Epoch 120 | Loss: 0.07702663540840149 | Test Loss: 0.177820086479187\n",
            "OrderedDict([('weights', tensor([1.0809])), ('bias', tensor([0.1388]))])\n",
            "OrderedDict([('weights', tensor([1.0793])), ('bias', tensor([0.1398]))])\n",
            "OrderedDict([('weights', tensor([1.0777])), ('bias', tensor([0.1408]))])\n",
            "OrderedDict([('weights', tensor([1.0761])), ('bias', tensor([0.1418]))])\n",
            "OrderedDict([('weights', tensor([1.0745])), ('bias', tensor([0.1428]))])\n",
            "OrderedDict([('weights', tensor([1.0727])), ('bias', tensor([0.1433]))])\n",
            "OrderedDict([('weights', tensor([1.0711])), ('bias', tensor([0.1443]))])\n",
            "OrderedDict([('weights', tensor([1.0693])), ('bias', tensor([0.1448]))])\n",
            "OrderedDict([('weights', tensor([1.0677])), ('bias', tensor([0.1458]))])\n",
            "OrderedDict([('weights', tensor([1.0659])), ('bias', tensor([0.1463]))])\n",
            "Epoch 130 | Loss: 0.07355017960071564 | Test Loss: 0.17092156410217285\n",
            "OrderedDict([('weights', tensor([1.0641])), ('bias', tensor([0.1468]))])\n",
            "OrderedDict([('weights', tensor([1.0625])), ('bias', tensor([0.1478]))])\n",
            "OrderedDict([('weights', tensor([1.0607])), ('bias', tensor([0.1483]))])\n",
            "OrderedDict([('weights', tensor([1.0592])), ('bias', tensor([0.1493]))])\n",
            "OrderedDict([('weights', tensor([1.0574])), ('bias', tensor([0.1498]))])\n",
            "OrderedDict([('weights', tensor([1.0558])), ('bias', tensor([0.1508]))])\n",
            "OrderedDict([('weights', tensor([1.0540])), ('bias', tensor([0.1513]))])\n",
            "OrderedDict([('weights', tensor([1.0522])), ('bias', tensor([0.1518]))])\n",
            "OrderedDict([('weights', tensor([1.0506])), ('bias', tensor([0.1528]))])\n",
            "OrderedDict([('weights', tensor([1.0488])), ('bias', tensor([0.1533]))])\n",
            "Epoch 140 | Loss: 0.07011997699737549 | Test Loss: 0.16333624720573425\n",
            "OrderedDict([('weights', tensor([1.0472])), ('bias', tensor([0.1543]))])\n",
            "OrderedDict([('weights', tensor([1.0454])), ('bias', tensor([0.1548]))])\n",
            "OrderedDict([('weights', tensor([1.0438])), ('bias', tensor([0.1558]))])\n",
            "OrderedDict([('weights', tensor([1.0420])), ('bias', tensor([0.1563]))])\n",
            "OrderedDict([('weights', tensor([1.0404])), ('bias', tensor([0.1573]))])\n",
            "OrderedDict([('weights', tensor([1.0386])), ('bias', tensor([0.1578]))])\n",
            "OrderedDict([('weights', tensor([1.0368])), ('bias', tensor([0.1583]))])\n",
            "OrderedDict([('weights', tensor([1.0352])), ('bias', tensor([0.1593]))])\n",
            "OrderedDict([('weights', tensor([1.0334])), ('bias', tensor([0.1598]))])\n",
            "OrderedDict([('weights', tensor([1.0318])), ('bias', tensor([0.1608]))])\n"
          ]
        }
      ]
    },
    {
      "cell_type": "code",
      "source": [
        "import numpy as np\n",
        "np.array(torch.tensor(loss_values).cpu().numpy()), test_loss_values"
      ],
      "metadata": {
        "colab": {
          "base_uri": "https://localhost:8080/"
        },
        "id": "wtiHNrZcwuYm",
        "outputId": "48bf3d4b-c7e0-41aa-b8b5-7d3618b0ad9a"
      },
      "execution_count": 23,
      "outputs": [
        {
          "output_type": "execute_result",
          "data": {
            "text/plain": [
              "(array([0.86706924, 0.7518593 , 0.6366495 , 0.52143955, 0.40622944,\n",
              "        0.2910192 , 0.17580903, 0.11110418, 0.09491372, 0.08829215,\n",
              "        0.08408288, 0.08055474, 0.07702664, 0.07355018, 0.07011998],\n",
              "       dtype=float32),\n",
              " [tensor(0.7625),\n",
              "  tensor(0.6278),\n",
              "  tensor(0.4930),\n",
              "  tensor(0.3583),\n",
              "  tensor(0.2236),\n",
              "  tensor(0.0889),\n",
              "  tensor(0.0458),\n",
              "  tensor(0.1338),\n",
              "  tensor(0.1699),\n",
              "  tensor(0.1840),\n",
              "  tensor(0.1861),\n",
              "  tensor(0.1820),\n",
              "  tensor(0.1778),\n",
              "  tensor(0.1709),\n",
              "  tensor(0.1633)])"
            ]
          },
          "metadata": {},
          "execution_count": 23
        }
      ]
    },
    {
      "cell_type": "code",
      "source": [
        "plt.plot(epoch_count, np.array(torch.tensor(loss_values).cpu().numpy()), label=\"Training Loss\")\n",
        "plt.plot(epoch_count, test_loss_values, label=\"Test Loss\")\n",
        "plt.title(\"Training & test loss curves\")\n",
        "plt.ylabel(\"Loss\")\n",
        "plt.xlabel(\"Epochs\")\n",
        "plt.legend()"
      ],
      "metadata": {
        "colab": {
          "base_uri": "https://localhost:8080/",
          "height": 489
        },
        "id": "D-slQEY1wW_j",
        "outputId": "31ec78ee-b78e-48c3-dd06-26c8548acf55"
      },
      "execution_count": 24,
      "outputs": [
        {
          "output_type": "execute_result",
          "data": {
            "text/plain": [
              "<matplotlib.legend.Legend at 0x7f37349f9c60>"
            ]
          },
          "metadata": {},
          "execution_count": 24
        },
        {
          "output_type": "display_data",
          "data": {
            "text/plain": [
              "<Figure size 640x480 with 1 Axes>"
            ],
            "image/png": "[encoded data removed]"
          },
          "metadata": {}
        }
      ]
    },
    {
      "cell_type": "code",
      "source": [
        "with torch.inference_mode():\n",
        "  y_preds_new = model_0(X_test)"
      ],
      "metadata": {
        "id": "7CD8DXNp0F8g"
      },
      "execution_count": 25,
      "outputs": []
    },
    {
      "cell_type": "code",
      "source": [
        "weight, bias"
      ],
      "metadata": {
        "colab": {
          "base_uri": "https://localhost:8080/"
        },
        "id": "p2p_MUvNC9d9",
        "outputId": "ea8c306b-9c2f-4116-f69e-1bb0b7c603aa"
      },
      "execution_count": 26,
      "outputs": [
        {
          "output_type": "execute_result",
          "data": {
            "text/plain": [
              "(0.7, 0.3)"
            ]
          },
          "metadata": {},
          "execution_count": 26
        }
      ]
    },
    {
      "cell_type": "code",
      "source": [
        "plot_predictions(predictions=y_preds_new)"
      ],
      "metadata": {
        "colab": {
          "base_uri": "https://localhost:8080/",
          "height": 460
        },
        "id": "wk9D44AHDBOM",
        "outputId": "1f1af902-e718-49b1-8e56-b3c89a872083"
      },
      "execution_count": 27,
      "outputs": [
        {
          "output_type": "display_data",
          "data": {
            "text/plain": [
              "<Figure size 1000x700 with 1 Axes>"
            ],
            "image/png": "[encoded data removed]"
          },
          "metadata": {}
        }
      ]
    },
    {
      "cell_type": "markdown",
      "source": [
        "Saving the model in PyTorch\n",
        "1. torch.save()\n",
        "2. torch.load()\n",
        "3. torch.nn.Module.load_state_dict()"
      ],
      "metadata": {
        "id": "Km6_zrTCEFYk"
      }
    },
    {
      "cell_type": "code",
      "source": [
        "model_0.state_dict()"
      ],
      "metadata": {
        "colab": {
          "base_uri": "https://localhost:8080/"
        },
        "id": "HR0aa3PPybBt",
        "outputId": "bdb96477-08d0-43c9-f1e9-d2b575267cb7"
      },
      "execution_count": 28,
      "outputs": [
        {
          "output_type": "execute_result",
          "data": {
            "text/plain": [
              "OrderedDict([('weights', tensor([1.0318])), ('bias', tensor([0.1608]))])"
            ]
          },
          "metadata": {},
          "execution_count": 28
        }
      ]
    },
    {
      "cell_type": "code",
      "source": [
        "#Saving PyTorch Model\n",
        "from pathlib import Path\n",
        "\n",
        "#1. Create models directory\n",
        "MODEL_PATH = Path(\"models\")\n",
        "MODEL_PATH.mkdir(parents=True, exist_ok=True)\n",
        "\n",
        "#2. Create model save path\n",
        "MODEL_NAME = \"01_pytorch_workflow_model_o.pth\"\n",
        "MODEL_SAVE_PATH = MODEL_PATH / MODEL_NAME\n",
        "MODEL_SAVE_PATH\n",
        "\n",
        "#3 save the model state dict\n",
        "print(f\"Saving model to: {MODEL_SAVE_PATH}\")\n",
        "torch.save(obj=model_0.state_dict(),\n",
        "           f=MODEL_SAVE_PATH)"
      ],
      "metadata": {
        "colab": {
          "base_uri": "https://localhost:8080/"
        },
        "id": "JzZm77q_zB9N",
        "outputId": "41f206c1-7928-4c20-a285-b77bb07a12a7"
      },
      "execution_count": 29,
      "outputs": [
        {
          "output_type": "stream",
          "name": "stdout",
          "text": [
            "Saving model to: models/01_pytorch_workflow_model_o.pth\n"
          ]
        }
      ]
    },
    {
      "cell_type": "code",
      "source": [
        "!ls -l models"
      ],
      "metadata": {
        "colab": {
          "base_uri": "https://localhost:8080/"
        },
        "id": "GLHXE5utzj9V",
        "outputId": "e9948685-1588-4504-8a6f-30a320527f82"
      },
      "execution_count": 30,
      "outputs": [
        {
          "output_type": "stream",
          "name": "stdout",
          "text": [
            "total 4\n",
            "-rw-r--r-- 1 root root 1680 Dec 21 14:01 01_pytorch_workflow_model_o.pth\n"
          ]
        }
      ]
    },
    {
      "cell_type": "code",
      "source": [
        "model_1 = torch.load(MODEL_SAVE_PATH)\n",
        "model_1"
      ],
      "metadata": {
        "colab": {
          "base_uri": "https://localhost:8080/"
        },
        "id": "KCklKKpu1Cr2",
        "outputId": "f318cfc8-03dd-4e5c-c07f-631be6372b8b"
      },
      "execution_count": 31,
      "outputs": [
        {
          "output_type": "execute_result",
          "data": {
            "text/plain": [
              "OrderedDict([('weights', tensor([1.0318])), ('bias', tensor([0.1608]))])"
            ]
          },
          "metadata": {},
          "execution_count": 31
        }
      ]
    },
    {
      "cell_type": "code",
      "source": [
        "model_0.state_dict()"
      ],
      "metadata": {
        "colab": {
          "base_uri": "https://localhost:8080/"
        },
        "id": "adSCykUR1OGN",
        "outputId": "e3374a97-e75d-4333-fdef-e17c3355d812"
      },
      "execution_count": 32,
      "outputs": [
        {
          "output_type": "execute_result",
          "data": {
            "text/plain": [
              "OrderedDict([('weights', tensor([1.0318])), ('bias', tensor([0.1608]))])"
            ]
          },
          "metadata": {},
          "execution_count": 32
        }
      ]
    },
    {
      "cell_type": "code",
      "source": [
        "loaded_model_0 = LinearRegressionModel()\n",
        "\n",
        "#Load teh saved state dict of model_0\n",
        "loaded_model_0.load_state_dict(torch.load(f=MODEL_SAVE_PATH))"
      ],
      "metadata": {
        "colab": {
          "base_uri": "https://localhost:8080/"
        },
        "id": "9D5r2kdl1uo1",
        "outputId": "f87aabf5-3d19-491f-8ef3-30c7e5277422"
      },
      "execution_count": 33,
      "outputs": [
        {
          "output_type": "execute_result",
          "data": {
            "text/plain": [
              "<All keys matched successfully>"
            ]
          },
          "metadata": {},
          "execution_count": 33
        }
      ]
    },
    {
      "cell_type": "code",
      "source": [
        "loaded_model_0.state_dict()"
      ],
      "metadata": {
        "colab": {
          "base_uri": "https://localhost:8080/"
        },
        "id": "Gmh-jOAp1-a2",
        "outputId": "16953ee5-820d-48c0-be95-a0cb68ce414c"
      },
      "execution_count": 34,
      "outputs": [
        {
          "output_type": "execute_result",
          "data": {
            "text/plain": [
              "OrderedDict([('weights', tensor([1.0318])), ('bias', tensor([0.1608]))])"
            ]
          },
          "metadata": {},
          "execution_count": 34
        }
      ]
    },
    {
      "cell_type": "code",
      "source": [
        "#Make some predictions with our loaded models\n",
        "loaded_model_0.eval()\n",
        "with torch.inference_mode():\n",
        "  y_preds = loaded_model_0(X_test)\n",
        "y_preds"
      ],
      "metadata": {
        "colab": {
          "base_uri": "https://localhost:8080/"
        },
        "id": "LePqOn_P2Amf",
        "outputId": "8fb502a5-b763-4532-e3de-b22a217dcb4b"
      },
      "execution_count": 35,
      "outputs": [
        {
          "output_type": "execute_result",
          "data": {
            "text/plain": [
              "tensor([[0.9863],\n",
              "        [1.0069],\n",
              "        [1.0276],\n",
              "        [1.0482],\n",
              "        [1.0688],\n",
              "        [1.0895],\n",
              "        [1.1101],\n",
              "        [1.1308],\n",
              "        [1.1514],\n",
              "        [1.1720]])"
            ]
          },
          "metadata": {},
          "execution_count": 35
        }
      ]
    },
    {
      "cell_type": "code",
      "source": [
        "y_preds == loaded_model_preds"
      ],
      "metadata": {
        "colab": {
          "base_uri": "https://localhost:8080/",
          "height": 175
        },
        "id": "w5MsCb4m2qkl",
        "outputId": "2991fa1a-d063-47b2-a31a-2d24922a4653"
      },
      "execution_count": 36,
      "outputs": [
        {
          "output_type": "error",
          "ename": "NameError",
          "evalue": "ignored",
          "traceback": [
            "\u001b[0;31m---------------------------------------------------------------------------\u001b[0m",
            "\u001b[0;31mNameError\u001b[0m                                 Traceback (most recent call last)",
            "\u001b[0;32m<ipython-input-36-2df246819fd3>\u001b[0m in \u001b[0;36m<cell line: 1>\u001b[0;34m()\u001b[0m\n\u001b[0;32m----> 1\u001b[0;31m \u001b[0my_preds\u001b[0m \u001b[0;34m==\u001b[0m \u001b[0mloaded_model_preds\u001b[0m\u001b[0;34m\u001b[0m\u001b[0;34m\u001b[0m\u001b[0m\n\u001b[0m",
            "\u001b[0;31mNameError\u001b[0m: name 'loaded_model_preds' is not defined"
          ]
        }
      ]
    },
    {
      "cell_type": "markdown",
      "source": [
        "##6. putting all together\n"
      ],
      "metadata": {
        "id": "IDDbQsUA2ue9"
      }
    },
    {
      "cell_type": "markdown",
      "source": [
        "6.1 Data"
      ],
      "metadata": {
        "id": "by2zJ7KO3fDy"
      }
    },
    {
      "cell_type": "code",
      "source": [
        "#Import PyTorch & matplotlib\n",
        "import torch\n",
        "from torch import nn\n",
        "import matplotlib.pyplot as plt\n",
        "\n",
        "torch.__version__"
      ],
      "metadata": {
        "id": "8ZsdIwmo3hi1"
      },
      "execution_count": null,
      "outputs": []
    },
    {
      "cell_type": "code",
      "source": [
        "device = \"cuda\" if torch.cuda.is_available() else \"cpu\"\n",
        "print(f\"Using device: {device}\")"
      ],
      "metadata": {
        "id": "crS9dZqY4LZS",
        "colab": {
          "base_uri": "https://localhost:8080/"
        },
        "outputId": "9d5b7fdf-4be8-412e-f374-43a79f61c465"
      },
      "execution_count": 37,
      "outputs": [
        {
          "output_type": "stream",
          "name": "stdout",
          "text": [
            "Using device: cpu\n"
          ]
        }
      ]
    },
    {
      "cell_type": "markdown",
      "source": [
        "6.1 Data"
      ],
      "metadata": {
        "id": "hsChVAQT38uV"
      }
    },
    {
      "cell_type": "code",
      "source": [
        "weight = 0.7\n",
        "bias = 0.3\n",
        "\n",
        "start = 0\n",
        "end = 1\n",
        "step = 0.02\n",
        "\n",
        "#x & y\n",
        "X = torch.arange(start, end, step).unsqueeze(dim=1)\n",
        "y = weight * X + bias\n",
        "X[:10], y[:10]"
      ],
      "metadata": {
        "id": "BsPAyehb3_jW",
        "colab": {
          "base_uri": "https://localhost:8080/"
        },
        "outputId": "1ddb5033-17a2-4f7c-e921-d14809e4eab6"
      },
      "execution_count": 38,
      "outputs": [
        {
          "output_type": "execute_result",
          "data": {
            "text/plain": [
              "(tensor([[0.0000],\n",
              "         [0.0200],\n",
              "         [0.0400],\n",
              "         [0.0600],\n",
              "         [0.0800],\n",
              "         [0.1000],\n",
              "         [0.1200],\n",
              "         [0.1400],\n",
              "         [0.1600],\n",
              "         [0.1800]]),\n",
              " tensor([[0.3000],\n",
              "         [0.3140],\n",
              "         [0.3280],\n",
              "         [0.3420],\n",
              "         [0.3560],\n",
              "         [0.3700],\n",
              "         [0.3840],\n",
              "         [0.3980],\n",
              "         [0.4120],\n",
              "         [0.4260]]))"
            ]
          },
          "metadata": {},
          "execution_count": 38
        }
      ]
    },
    {
      "cell_type": "code",
      "source": [
        "train_split = int(0.8 * len(X))\n",
        "X_train, y_train = X[:train_split], y[:train_split]\n",
        "X_test, y_test = X[train_split:], y[train_split:]\n",
        "len(X_train), len(y_train), len(X_test), len(y_test)"
      ],
      "metadata": {
        "colab": {
          "base_uri": "https://localhost:8080/"
        },
        "id": "FpDBBkrVsuiO",
        "outputId": "8250d1d8-4f37-47b0-e854-c6b0f9f4c05b"
      },
      "execution_count": 40,
      "outputs": [
        {
          "output_type": "execute_result",
          "data": {
            "text/plain": [
              "(40, 40, 10, 10)"
            ]
          },
          "metadata": {},
          "execution_count": 40
        }
      ]
    },
    {
      "cell_type": "code",
      "source": [
        "plot_predictions(X_train, y_train, X_test, y_test)"
      ],
      "metadata": {
        "colab": {
          "base_uri": "https://localhost:8080/",
          "height": 460
        },
        "id": "vE6z4cxvtRhx",
        "outputId": "db842e47-c7fa-4203-c446-650a89035ccb"
      },
      "execution_count": 41,
      "outputs": [
        {
          "output_type": "display_data",
          "data": {
            "text/plain": [
              "<Figure size 1000x700 with 1 Axes>"
            ],
            "image/png": "[encoded data removed]"
          },
          "metadata": {}
        }
      ]
    },
    {
      "cell_type": "markdown",
      "source": [
        "building a model"
      ],
      "metadata": {
        "id": "2PXXsXxatg-K"
      }
    },
    {
      "cell_type": "code",
      "source": [
        "#Linear model\n",
        "class LinearRegressionModelV2(nn.Module):\n",
        "  def __init__(self):\n",
        "    super().__init__()\n",
        "    self.linear_layer = nn.Linear(in_features=1,\n",
        "                                  out_features=1)\n",
        "  def forward(self, x: torch.Tensor) -> torch.Tensor:\n",
        "    return self.linear_layer(x)\n",
        "\n",
        "torch.manual_seed(42)\n",
        "model_1 = LinearRegressionModelV2()\n",
        "model_1, model_1.state_dict()"
      ],
      "metadata": {
        "colab": {
          "base_uri": "https://localhost:8080/"
        },
        "id": "rTFaylFtt57Q",
        "outputId": "d9f0bcc3-aeea-47b8-dff4-5a00bede69de"
      },
      "execution_count": 44,
      "outputs": [
        {
          "output_type": "execute_result",
          "data": {
            "text/plain": [
              "(LinearRegressionModelV2(\n",
              "   (linear_layer): Linear(in_features=1, out_features=1, bias=True)\n",
              " ),\n",
              " OrderedDict([('linear_layer.weight', tensor([[0.7645]])),\n",
              "              ('linear_layer.bias', tensor([0.8300]))]))"
            ]
          },
          "metadata": {},
          "execution_count": 44
        }
      ]
    },
    {
      "cell_type": "code",
      "source": [
        "device"
      ],
      "metadata": {
        "colab": {
          "base_uri": "https://localhost:8080/",
          "height": 35
        },
        "id": "o5Kw5yaUvWyr",
        "outputId": "3653d459-9253-4906-ce90-78c6fe674875"
      },
      "execution_count": 45,
      "outputs": [
        {
          "output_type": "execute_result",
          "data": {
            "text/plain": [
              "'cpu'"
            ],
            "application/vnd.google.colaboratory.intrinsic+json": {
              "type": "string"
            }
          },
          "metadata": {},
          "execution_count": 45
        }
      ]
    },
    {
      "cell_type": "code",
      "source": [
        "next(model_1.parameters()).device"
      ],
      "metadata": {
        "colab": {
          "base_uri": "https://localhost:8080/"
        },
        "id": "neEb-lGowidf",
        "outputId": "dbce077a-fb2b-4302-9efc-0cf92fa7f2a5"
      },
      "execution_count": 46,
      "outputs": [
        {
          "output_type": "execute_result",
          "data": {
            "text/plain": [
              "device(type='cpu')"
            ]
          },
          "metadata": {},
          "execution_count": 46
        }
      ]
    },
    {
      "cell_type": "code",
      "source": [
        "model_1.to(device)\n",
        "next(model_1.parameters()).device"
      ],
      "metadata": {
        "colab": {
          "base_uri": "https://localhost:8080/"
        },
        "id": "ZYWPA_l8wsgC",
        "outputId": "d9ab1664-13ae-44d4-cc79-fa68d556f92c"
      },
      "execution_count": 48,
      "outputs": [
        {
          "output_type": "execute_result",
          "data": {
            "text/plain": [
              "device(type='cpu')"
            ]
          },
          "metadata": {},
          "execution_count": 48
        }
      ]
    },
    {
      "cell_type": "code",
      "source": [
        "loss_fn = nn.L1Loss()\n",
        "\n",
        "optimizer = torch.optim.SGD(params=model_1.parameters(),\n",
        "                            lr=0.01)"
      ],
      "metadata": {
        "id": "vJTg9TLZwzW0"
      },
      "execution_count": 49,
      "outputs": []
    },
    {
      "cell_type": "code",
      "source": [
        "torch.manual_seed(42)\n",
        "\n",
        "epochs = 200\n",
        "X_train = X_train.to(device)\n",
        "y_train = y_train.to(device)\n",
        "X_test = X_test.to(device)\n",
        "y_test = y_test.to(device)\n",
        "\n",
        "for epoch in range(epochs):\n",
        "  model_1.train()\n",
        "  y_pred = model_1(X_train)\n",
        "  loss = loss_fn(y_pred, y_train)\n",
        "  optimizer.zero_grad()\n",
        "  loss.backward()\n",
        "  optimizer.step()\n",
        "\n",
        "##Testing\n",
        "  model_1.eval()\n",
        "  with torch.inference_mode():\n",
        "    test_pred = model_1(X_test)\n",
        "\n",
        "    test_loss = loss_fn(test_pred, y_test)\n",
        "\n",
        "  if epoch % 10 == 0:\n",
        "    print(f\"Epoch: {epoch} | Loss: {loss} | Test loss: {test_loss}\")"
      ],
      "metadata": {
        "colab": {
          "base_uri": "https://localhost:8080/"
        },
        "id": "tydFObh3xel5",
        "outputId": "37b1f12a-eae4-442c-9ea7-07beafeaac5d"
      },
      "execution_count": 57,
      "outputs": [
        {
          "output_type": "stream",
          "name": "stdout",
          "text": [
            "Epoch: 0 | Loss: 0.0012645035749301314 | Test loss: 0.013801807537674904\n",
            "Epoch: 10 | Loss: 0.0012645035749301314 | Test loss: 0.013801807537674904\n",
            "Epoch: 20 | Loss: 0.0012645035749301314 | Test loss: 0.013801807537674904\n",
            "Epoch: 30 | Loss: 0.0012645035749301314 | Test loss: 0.013801807537674904\n",
            "Epoch: 40 | Loss: 0.0012645035749301314 | Test loss: 0.013801807537674904\n",
            "Epoch: 50 | Loss: 0.0012645035749301314 | Test loss: 0.013801807537674904\n",
            "Epoch: 60 | Loss: 0.0012645035749301314 | Test loss: 0.013801807537674904\n",
            "Epoch: 70 | Loss: 0.0012645035749301314 | Test loss: 0.013801807537674904\n",
            "Epoch: 80 | Loss: 0.0012645035749301314 | Test loss: 0.013801807537674904\n",
            "Epoch: 90 | Loss: 0.0012645035749301314 | Test loss: 0.013801807537674904\n",
            "Epoch: 100 | Loss: 0.0012645035749301314 | Test loss: 0.013801807537674904\n",
            "Epoch: 110 | Loss: 0.0012645035749301314 | Test loss: 0.013801807537674904\n",
            "Epoch: 120 | Loss: 0.0012645035749301314 | Test loss: 0.013801807537674904\n",
            "Epoch: 130 | Loss: 0.0012645035749301314 | Test loss: 0.013801807537674904\n",
            "Epoch: 140 | Loss: 0.0012645035749301314 | Test loss: 0.013801807537674904\n",
            "Epoch: 150 | Loss: 0.0012645035749301314 | Test loss: 0.013801807537674904\n",
            "Epoch: 160 | Loss: 0.0012645035749301314 | Test loss: 0.013801807537674904\n",
            "Epoch: 170 | Loss: 0.0012645035749301314 | Test loss: 0.013801807537674904\n",
            "Epoch: 180 | Loss: 0.0012645035749301314 | Test loss: 0.013801807537674904\n",
            "Epoch: 190 | Loss: 0.0012645035749301314 | Test loss: 0.013801807537674904\n"
          ]
        }
      ]
    },
    {
      "cell_type": "code",
      "source": [
        "model_1.state_dict()"
      ],
      "metadata": {
        "colab": {
          "base_uri": "https://localhost:8080/"
        },
        "id": "3409vpUUxz16",
        "outputId": "a166abed-a811-465b-f1fd-dbd0645c6a69"
      },
      "execution_count": 58,
      "outputs": [
        {
          "output_type": "execute_result",
          "data": {
            "text/plain": [
              "OrderedDict([('linear_layer.weight', tensor([[0.6968]])),\n",
              "             ('linear_layer.bias', tensor([0.3025]))])"
            ]
          },
          "metadata": {},
          "execution_count": 58
        }
      ]
    },
    {
      "cell_type": "code",
      "source": [
        "weight, bias"
      ],
      "metadata": {
        "colab": {
          "base_uri": "https://localhost:8080/"
        },
        "id": "XxYcwF8fz6Wt",
        "outputId": "a43769ef-1385-4f9b-b14c-99c79310234d"
      },
      "execution_count": 59,
      "outputs": [
        {
          "output_type": "execute_result",
          "data": {
            "text/plain": [
              "(0.7, 0.3)"
            ]
          },
          "metadata": {},
          "execution_count": 59
        }
      ]
    },
    {
      "cell_type": "code",
      "source": [
        "model_1.eval()\n",
        "\n",
        "with torch.inference_mode():\n",
        "  y_preds = model_1(X_test)\n",
        "y_preds"
      ],
      "metadata": {
        "colab": {
          "base_uri": "https://localhost:8080/"
        },
        "id": "A3DvRHVYz7go",
        "outputId": "14caee35-9def-4f57-ee37-7acd481e1cc3"
      },
      "execution_count": 60,
      "outputs": [
        {
          "output_type": "execute_result",
          "data": {
            "text/plain": [
              "tensor([[0.8600],\n",
              "        [0.8739],\n",
              "        [0.8878],\n",
              "        [0.9018],\n",
              "        [0.9157],\n",
              "        [0.9296],\n",
              "        [0.9436],\n",
              "        [0.9575],\n",
              "        [0.9714],\n",
              "        [0.9854]])"
            ]
          },
          "metadata": {},
          "execution_count": 60
        }
      ]
    },
    {
      "cell_type": "code",
      "source": [
        "plot_predictions(predictions=y_preds.cpu())"
      ],
      "metadata": {
        "colab": {
          "base_uri": "https://localhost:8080/",
          "height": 460
        },
        "id": "miv8RrlI0tfx",
        "outputId": "addaaf86-7d31-4e37-cac0-1a8e601249dd"
      },
      "execution_count": 62,
      "outputs": [
        {
          "output_type": "display_data",
          "data": {
            "text/plain": [
              "<Figure size 1000x700 with 1 Axes>"
            ],
            "image/png": "[encoded data removed]"
          },
          "metadata": {}
        }
      ]
    },
    {
      "cell_type": "code",
      "source": [
        "from pathlib import Path\n",
        "#1. create models directory\n",
        "MODEL_PATH = Path(\"Models\")\n",
        "MODEL_PATH.mkdir(parents=True, exist_ok=True)\n",
        "\n",
        "#2. Create save path\n",
        "MODEL_NAME = \"01_Pytorch_workflow_model_1.pth\"\n",
        "MODEL_SAVE_PATH = MODEL_PATH / MODEL_NAME\n",
        "\n",
        "MODEL_SAVE_PATH\n",
        "\n",
        "#3. Save modelstate dict\n",
        "print(f\"Saving model to: {MODEL_SAVE_PATH}\")\n",
        "torch.save(obj=model_1.state_dict(),\n",
        "           f=MODEL_SAVE_PATH)\n"
      ],
      "metadata": {
        "colab": {
          "base_uri": "https://localhost:8080/"
        },
        "id": "n6vtU9cI07-M",
        "outputId": "1afb4628-5b03-401e-cd9a-346835b1c3d0"
      },
      "execution_count": 66,
      "outputs": [
        {
          "output_type": "stream",
          "name": "stdout",
          "text": [
            "Saving model to: Models/01_Pytorch_workflow_model_1.pth\n"
          ]
        }
      ]
    },
    {
      "cell_type": "code",
      "source": [
        "#Load a PYtorch mdel\n",
        "loaded_model_1 = LinearRegressionModelV2()\n",
        "\n",
        "#Load the model state dict\n",
        "loaded_model_1.load_state_dict(torch.load(MODEL_SAVE_PATH))\n",
        "\n",
        "loaded_model_1.to(device)"
      ],
      "metadata": {
        "colab": {
          "base_uri": "https://localhost:8080/"
        },
        "id": "R9TWCz4R18dM",
        "outputId": "ff15179a-4032-4f78-88d4-9635710c6765"
      },
      "execution_count": 69,
      "outputs": [
        {
          "output_type": "execute_result",
          "data": {
            "text/plain": [
              "LinearRegressionModelV2(\n",
              "  (linear_layer): Linear(in_features=1, out_features=1, bias=True)\n",
              ")"
            ]
          },
          "metadata": {},
          "execution_count": 69
        }
      ]
    },
    {
      "cell_type": "code",
      "source": [
        "next(loaded_model_1.parameters()).device"
      ],
      "metadata": {
        "colab": {
          "base_uri": "https://localhost:8080/"
        },
        "id": "RlgQDjxT22yi",
        "outputId": "7b3d1a6e-6828-4d01-c5f4-14befaa6d81e"
      },
      "execution_count": 70,
      "outputs": [
        {
          "output_type": "execute_result",
          "data": {
            "text/plain": [
              "device(type='cpu')"
            ]
          },
          "metadata": {},
          "execution_count": 70
        }
      ]
    },
    {
      "cell_type": "code",
      "source": [
        "loaded_model_1.state_dict()"
      ],
      "metadata": {
        "colab": {
          "base_uri": "https://localhost:8080/"
        },
        "id": "14ENhgqP3B5o",
        "outputId": "9c904cf4-7f49-412a-d65c-e8dfdd60dc4f"
      },
      "execution_count": 71,
      "outputs": [
        {
          "output_type": "execute_result",
          "data": {
            "text/plain": [
              "OrderedDict([('linear_layer.weight', tensor([[0.6968]])),\n",
              "             ('linear_layer.bias', tensor([0.3025]))])"
            ]
          },
          "metadata": {},
          "execution_count": 71
        }
      ]
    },
    {
      "cell_type": "code",
      "source": [
        "loaded_model_1.eval()\n",
        "with torch.inference_mode():\n",
        "  loaded_model_1_preds = loaded_model_1(X_test)\n",
        "y_preds == loaded_model_1_preds"
      ],
      "metadata": {
        "colab": {
          "base_uri": "https://localhost:8080/"
        },
        "id": "AlkouLXz3EfW",
        "outputId": "2764dae3-c58d-4b47-ff0a-225d8bbcd45e"
      },
      "execution_count": 72,
      "outputs": [
        {
          "output_type": "execute_result",
          "data": {
            "text/plain": [
              "tensor([[True],\n",
              "        [True],\n",
              "        [True],\n",
              "        [True],\n",
              "        [True],\n",
              "        [True],\n",
              "        [True],\n",
              "        [True],\n",
              "        [True],\n",
              "        [True]])"
            ]
          },
          "metadata": {},
          "execution_count": 72
        }
      ]
    },
    {
      "cell_type": "code",
      "source": [],
      "metadata": {
        "id": "MYRfGHI03U4x"
      },
      "execution_count": null,
      "outputs": []
    }
  ]
}